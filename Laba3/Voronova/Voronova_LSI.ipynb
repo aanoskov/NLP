{
 "cells": [
  {
   "cell_type": "code",
   "execution_count": 29,
   "metadata": {},
   "outputs": [],
   "source": [
    "import pandas as pd\n",
    "import json\n",
    "import re\n",
    "import gensim\n",
    "from gensim.models import CoherenceModel, LdaModel, LsiModel, HdpModel\n",
    "from gensim.corpora import Dictionary\n",
    "import pyLDAvis.gensim_models\n",
    "import pymorphy2\n",
    "import numpy as np\n",
    "import matplotlib.pyplot as plt"
   ]
  },
  {
   "cell_type": "code",
   "execution_count": 2,
   "metadata": {},
   "outputs": [],
   "source": [
    "data_path='data/life_news_preproc.json'"
   ]
  },
  {
   "cell_type": "code",
   "execution_count": 3,
   "metadata": {},
   "outputs": [
    {
     "data": {
      "text/html": [
       "<div>\n",
       "<style scoped>\n",
       "    .dataframe tbody tr th:only-of-type {\n",
       "        vertical-align: middle;\n",
       "    }\n",
       "\n",
       "    .dataframe tbody tr th {\n",
       "        vertical-align: top;\n",
       "    }\n",
       "\n",
       "    .dataframe thead th {\n",
       "        text-align: right;\n",
       "    }\n",
       "</style>\n",
       "<table border=\"1\" class=\"dataframe\">\n",
       "  <thead>\n",
       "    <tr style=\"text-align: right;\">\n",
       "      <th></th>\n",
       "      <th>link</th>\n",
       "      <th>title</th>\n",
       "      <th>category</th>\n",
       "      <th>tags</th>\n",
       "      <th>text</th>\n",
       "    </tr>\n",
       "  </thead>\n",
       "  <tbody>\n",
       "    <tr>\n",
       "      <th>0</th>\n",
       "      <td>https://life.ru/p/1471948</td>\n",
       "      <td>Стало известно, кто захоронен в безымянных сар...</td>\n",
       "      <td>tehnologii</td>\n",
       "      <td>[Новости, захоронения, кремль, Интересное, Нау...</td>\n",
       "      <td>учёный провести исследование выяснить захорони...</td>\n",
       "    </tr>\n",
       "    <tr>\n",
       "      <th>1</th>\n",
       "      <td>https://life.ru/p/1471901</td>\n",
       "      <td>Google пообещал \"воскресить\" старые компьютеры...</td>\n",
       "      <td>tehnologii</td>\n",
       "      <td>[Новости, google, Сервисы и приложения, Наука ...</td>\n",
       "      <td>google анонсировать новый версия фирменный chr...</td>\n",
       "    </tr>\n",
       "    <tr>\n",
       "      <th>2</th>\n",
       "      <td>https://life.ru/p/1471856</td>\n",
       "      <td>Минцифры опровергло сообщения о планах ввести ...</td>\n",
       "      <td>tehnologii</td>\n",
       "      <td>[Новости, Минцифры, Экономика, Наука и Техноло...</td>\n",
       "      <td>министерство цифровой развитие связь массовый ...</td>\n",
       "    </tr>\n",
       "    <tr>\n",
       "      <th>3</th>\n",
       "      <td>https://life.ru/p/1471819</td>\n",
       "      <td>TikTok приступил к созданию представительства ...</td>\n",
       "      <td>tehnologii</td>\n",
       "      <td>[Новости, tiktok, Социальные сети и мессенджер...</td>\n",
       "      <td>tiktok приступить создание представительство р...</td>\n",
       "    </tr>\n",
       "    <tr>\n",
       "      <th>4</th>\n",
       "      <td>https://life.ru/p/1471813</td>\n",
       "      <td>В России могут ввести налог для Steam и PlaySt...</td>\n",
       "      <td>tehnologii</td>\n",
       "      <td>[Новости, playstationstore, steam, Наука и Тех...</td>\n",
       "      <td>россия цель поддержка отечественный видеоигра ...</td>\n",
       "    </tr>\n",
       "  </tbody>\n",
       "</table>\n",
       "</div>"
      ],
      "text/plain": [
       "                        link  \\\n",
       "0  https://life.ru/p/1471948   \n",
       "1  https://life.ru/p/1471901   \n",
       "2  https://life.ru/p/1471856   \n",
       "3  https://life.ru/p/1471819   \n",
       "4  https://life.ru/p/1471813   \n",
       "\n",
       "                                               title    category  \\\n",
       "0  Стало известно, кто захоронен в безымянных сар...  tehnologii   \n",
       "1  Google пообещал \"воскресить\" старые компьютеры...  tehnologii   \n",
       "2  Минцифры опровергло сообщения о планах ввести ...  tehnologii   \n",
       "3  TikTok приступил к созданию представительства ...  tehnologii   \n",
       "4  В России могут ввести налог для Steam и PlaySt...  tehnologii   \n",
       "\n",
       "                                                tags  \\\n",
       "0  [Новости, захоронения, кремль, Интересное, Нау...   \n",
       "1  [Новости, google, Сервисы и приложения, Наука ...   \n",
       "2  [Новости, Минцифры, Экономика, Наука и Техноло...   \n",
       "3  [Новости, tiktok, Социальные сети и мессенджер...   \n",
       "4  [Новости, playstationstore, steam, Наука и Тех...   \n",
       "\n",
       "                                                text  \n",
       "0  учёный провести исследование выяснить захорони...  \n",
       "1  google анонсировать новый версия фирменный chr...  \n",
       "2  министерство цифровой развитие связь массовый ...  \n",
       "3  tiktok приступить создание представительство р...  \n",
       "4  россия цель поддержка отечественный видеоигра ...  "
      ]
     },
     "execution_count": 3,
     "metadata": {},
     "output_type": "execute_result"
    }
   ],
   "source": [
    "news = []\n",
    "with open(data_path) as file:\n",
    "    for line in file:\n",
    "        news.append(json.loads(line))\n",
    "data = pd.DataFrame(news)\n",
    "data.head()"
   ]
  },
  {
   "cell_type": "code",
   "execution_count": 4,
   "metadata": {},
   "outputs": [
    {
     "data": {
      "text/plain": [
       "array(['tehnologii', 'proisshestviya', 'sport', 'politika'], dtype=object)"
      ]
     },
     "execution_count": 4,
     "metadata": {},
     "output_type": "execute_result"
    }
   ],
   "source": [
    "data.category.unique()"
   ]
  },
  {
   "cell_type": "markdown",
   "metadata": {},
   "source": [
    "# Preprocessing "
   ]
  },
  {
   "cell_type": "code",
   "execution_count": 10,
   "metadata": {},
   "outputs": [],
   "source": [
    "import re\n",
    "import json\n",
    "import string\n",
    "import pymorphy2\n",
    "import pandas as pd\n",
    "from pymystem3 import Mystem"
   ]
  },
  {
   "cell_type": "code",
   "execution_count": 6,
   "metadata": {},
   "outputs": [],
   "source": [
    "for i, row in data.iterrows():\n",
    "    data.at[i,'text'] = row['text'].lower()"
   ]
  },
  {
   "cell_type": "code",
   "execution_count": 7,
   "metadata": {},
   "outputs": [],
   "source": [
    "for i, row in data.iterrows():\n",
    "    line = row['text']\n",
    "    data.at[i, 'text'] = line.strip('\\n').strip()"
   ]
  },
  {
   "cell_type": "code",
   "execution_count": 10,
   "metadata": {},
   "outputs": [
    {
     "name": "stderr",
     "output_type": "stream",
     "text": [
      "C:\\Users\\Voron\\.conda\\envs\\text_dataset\\lib\\site-packages\\pymorphy2\\units\\base.py:70: DeprecationWarning: inspect.getargspec() is deprecated since Python 3.0, use inspect.signature() or inspect.getfullargspec()\n",
      "  args, varargs, kw, default = inspect.getargspec(cls.__init__)\n",
      "C:\\Users\\Voron\\.conda\\envs\\text_dataset\\lib\\site-packages\\pymorphy2\\units\\base.py:70: DeprecationWarning: inspect.getargspec() is deprecated since Python 3.0, use inspect.signature() or inspect.getfullargspec()\n",
      "  args, varargs, kw, default = inspect.getargspec(cls.__init__)\n",
      "C:\\Users\\Voron\\.conda\\envs\\text_dataset\\lib\\site-packages\\pymorphy2\\units\\base.py:70: DeprecationWarning: inspect.getargspec() is deprecated since Python 3.0, use inspect.signature() or inspect.getfullargspec()\n",
      "  args, varargs, kw, default = inspect.getargspec(cls.__init__)\n",
      "C:\\Users\\Voron\\.conda\\envs\\text_dataset\\lib\\site-packages\\pymorphy2\\units\\base.py:70: DeprecationWarning: inspect.getargspec() is deprecated since Python 3.0, use inspect.signature() or inspect.getfullargspec()\n",
      "  args, varargs, kw, default = inspect.getargspec(cls.__init__)\n",
      "C:\\Users\\Voron\\.conda\\envs\\text_dataset\\lib\\site-packages\\pymorphy2\\units\\base.py:70: DeprecationWarning: inspect.getargspec() is deprecated since Python 3.0, use inspect.signature() or inspect.getfullargspec()\n",
      "  args, varargs, kw, default = inspect.getargspec(cls.__init__)\n",
      "C:\\Users\\Voron\\.conda\\envs\\text_dataset\\lib\\site-packages\\pymorphy2\\units\\base.py:70: DeprecationWarning: inspect.getargspec() is deprecated since Python 3.0, use inspect.signature() or inspect.getfullargspec()\n",
      "  args, varargs, kw, default = inspect.getargspec(cls.__init__)\n",
      "C:\\Users\\Voron\\.conda\\envs\\text_dataset\\lib\\site-packages\\pymorphy2\\units\\base.py:70: DeprecationWarning: inspect.getargspec() is deprecated since Python 3.0, use inspect.signature() or inspect.getfullargspec()\n",
      "  args, varargs, kw, default = inspect.getargspec(cls.__init__)\n",
      "C:\\Users\\Voron\\.conda\\envs\\text_dataset\\lib\\site-packages\\pymorphy2\\units\\base.py:70: DeprecationWarning: inspect.getargspec() is deprecated since Python 3.0, use inspect.signature() or inspect.getfullargspec()\n",
      "  args, varargs, kw, default = inspect.getargspec(cls.__init__)\n",
      "C:\\Users\\Voron\\.conda\\envs\\text_dataset\\lib\\site-packages\\pymorphy2\\units\\base.py:70: DeprecationWarning: inspect.getargspec() is deprecated since Python 3.0, use inspect.signature() or inspect.getfullargspec()\n",
      "  args, varargs, kw, default = inspect.getargspec(cls.__init__)\n",
      "C:\\Users\\Voron\\.conda\\envs\\text_dataset\\lib\\site-packages\\pymorphy2\\units\\base.py:70: DeprecationWarning: inspect.getargspec() is deprecated since Python 3.0, use inspect.signature() or inspect.getfullargspec()\n",
      "  args, varargs, kw, default = inspect.getargspec(cls.__init__)\n",
      "C:\\Users\\Voron\\.conda\\envs\\text_dataset\\lib\\site-packages\\pymorphy2\\units\\base.py:70: DeprecationWarning: inspect.getargspec() is deprecated since Python 3.0, use inspect.signature() or inspect.getfullargspec()\n",
      "  args, varargs, kw, default = inspect.getargspec(cls.__init__)\n",
      "C:\\Users\\Voron\\.conda\\envs\\text_dataset\\lib\\site-packages\\pymorphy2\\units\\base.py:70: DeprecationWarning: inspect.getargspec() is deprecated since Python 3.0, use inspect.signature() or inspect.getfullargspec()\n",
      "  args, varargs, kw, default = inspect.getargspec(cls.__init__)\n"
     ]
    }
   ],
   "source": [
    "morph = pymorphy2.MorphAnalyzer()\n",
    "bad_tags = ['NPRO', 'PRED', 'PREP', 'CONJ', 'PRCL', 'INTJ']"
   ]
  },
  {
   "cell_type": "markdown",
   "metadata": {},
   "source": [
    "вот тут удалила стоп-слова"
   ]
  },
  {
   "cell_type": "code",
   "execution_count": 11,
   "metadata": {},
   "outputs": [
    {
     "name": "stdout",
     "output_type": "stream",
     "text": [
      "0\n",
      "1000\n",
      "2000\n",
      "3000\n",
      "4000\n",
      "5000\n",
      "6000\n",
      "7000\n",
      "8000\n",
      "9000\n",
      "10000\n",
      "11000\n",
      "12000\n",
      "13000\n",
      "14000\n",
      "15000\n",
      "16000\n",
      "17000\n",
      "18000\n",
      "19000\n",
      "20000\n"
     ]
    }
   ],
   "source": [
    "for i, row in data.iterrows():\n",
    "    line = row['text'].split()\n",
    "    words_to_delete = set()\n",
    "    for word in line:\n",
    "        p = morph.parse(word)[0].tag\n",
    "        if p.POS in bad_tags:\n",
    "            words_to_delete.add(word)\n",
    "    for word in words_to_delete:\n",
    "        line = list(filter(lambda a: a != word, line))\n",
    "    data.at[i, 'text'] = ' '.join(line)\n",
    "    if i % 1000 == 0:\n",
    "        print(i)"
   ]
  },
  {
   "cell_type": "code",
   "execution_count": 12,
   "metadata": {},
   "outputs": [],
   "source": [
    "for i, row in data.iterrows():\n",
    "    with open('final_changed_data.json','a') as file:\n",
    "                file.write(json.dumps({\n",
    "                    'link' : row['link'],\n",
    "                    'category': row['category'],\n",
    "                    'title': row['title'],\n",
    "                    'text': row['text'],\n",
    "                    'tags': row['tags']\n",
    "                },ensure_ascii=True) + '\\n')"
   ]
  },
  {
   "cell_type": "code",
   "execution_count": 13,
   "metadata": {},
   "outputs": [
    {
     "data": {
      "text/html": [
       "<div>\n",
       "<style scoped>\n",
       "    .dataframe tbody tr th:only-of-type {\n",
       "        vertical-align: middle;\n",
       "    }\n",
       "\n",
       "    .dataframe tbody tr th {\n",
       "        vertical-align: top;\n",
       "    }\n",
       "\n",
       "    .dataframe thead th {\n",
       "        text-align: right;\n",
       "    }\n",
       "</style>\n",
       "<table border=\"1\" class=\"dataframe\">\n",
       "  <thead>\n",
       "    <tr style=\"text-align: right;\">\n",
       "      <th></th>\n",
       "      <th>link</th>\n",
       "      <th>category</th>\n",
       "      <th>title</th>\n",
       "      <th>text</th>\n",
       "      <th>tags</th>\n",
       "    </tr>\n",
       "  </thead>\n",
       "  <tbody>\n",
       "    <tr>\n",
       "      <th>0</th>\n",
       "      <td>https://life.ru/p/1471948</td>\n",
       "      <td>tehnologii</td>\n",
       "      <td>Стало известно, кто захоронен в безымянных сар...</td>\n",
       "      <td>учёный провести исследование выяснить захорони...</td>\n",
       "      <td>[Новости, захоронения, кремль, Интересное, Нау...</td>\n",
       "    </tr>\n",
       "    <tr>\n",
       "      <th>1</th>\n",
       "      <td>https://life.ru/p/1471901</td>\n",
       "      <td>tehnologii</td>\n",
       "      <td>Google пообещал \"воскресить\" старые компьютеры...</td>\n",
       "      <td>google анонсировать новый версия фирменный chr...</td>\n",
       "      <td>[Новости, google, Сервисы и приложения, Наука ...</td>\n",
       "    </tr>\n",
       "    <tr>\n",
       "      <th>2</th>\n",
       "      <td>https://life.ru/p/1471856</td>\n",
       "      <td>tehnologii</td>\n",
       "      <td>Минцифры опровергло сообщения о планах ввести ...</td>\n",
       "      <td>министерство цифровой развитие связь массовый ...</td>\n",
       "      <td>[Новости, Минцифры, Экономика, Наука и Техноло...</td>\n",
       "    </tr>\n",
       "    <tr>\n",
       "      <th>3</th>\n",
       "      <td>https://life.ru/p/1471819</td>\n",
       "      <td>tehnologii</td>\n",
       "      <td>TikTok приступил к созданию представительства ...</td>\n",
       "      <td>tiktok приступить создание представительство р...</td>\n",
       "      <td>[Новости, tiktok, Социальные сети и мессенджер...</td>\n",
       "    </tr>\n",
       "    <tr>\n",
       "      <th>4</th>\n",
       "      <td>https://life.ru/p/1471813</td>\n",
       "      <td>tehnologii</td>\n",
       "      <td>В России могут ввести налог для Steam и PlaySt...</td>\n",
       "      <td>россия цель поддержка отечественный видеоигра ...</td>\n",
       "      <td>[Новости, playstationstore, steam, Наука и Тех...</td>\n",
       "    </tr>\n",
       "  </tbody>\n",
       "</table>\n",
       "</div>"
      ],
      "text/plain": [
       "                        link    category  \\\n",
       "0  https://life.ru/p/1471948  tehnologii   \n",
       "1  https://life.ru/p/1471901  tehnologii   \n",
       "2  https://life.ru/p/1471856  tehnologii   \n",
       "3  https://life.ru/p/1471819  tehnologii   \n",
       "4  https://life.ru/p/1471813  tehnologii   \n",
       "\n",
       "                                               title  \\\n",
       "0  Стало известно, кто захоронен в безымянных сар...   \n",
       "1  Google пообещал \"воскресить\" старые компьютеры...   \n",
       "2  Минцифры опровергло сообщения о планах ввести ...   \n",
       "3  TikTok приступил к созданию представительства ...   \n",
       "4  В России могут ввести налог для Steam и PlaySt...   \n",
       "\n",
       "                                                text  \\\n",
       "0  учёный провести исследование выяснить захорони...   \n",
       "1  google анонсировать новый версия фирменный chr...   \n",
       "2  министерство цифровой развитие связь массовый ...   \n",
       "3  tiktok приступить создание представительство р...   \n",
       "4  россия цель поддержка отечественный видеоигра ...   \n",
       "\n",
       "                                                tags  \n",
       "0  [Новости, захоронения, кремль, Интересное, Нау...  \n",
       "1  [Новости, google, Сервисы и приложения, Наука ...  \n",
       "2  [Новости, Минцифры, Экономика, Наука и Техноло...  \n",
       "3  [Новости, tiktok, Социальные сети и мессенджер...  \n",
       "4  [Новости, playstationstore, steam, Наука и Тех...  "
      ]
     },
     "execution_count": 13,
     "metadata": {},
     "output_type": "execute_result"
    }
   ],
   "source": [
    "news = []\n",
    "with open('final_changed_data.json') as file:\n",
    "    for line in file:\n",
    "        news.append(json.loads(line))\n",
    "data = pd.DataFrame(news)\n",
    "data.head()"
   ]
  },
  {
   "cell_type": "code",
   "execution_count": 15,
   "metadata": {},
   "outputs": [
    {
     "data": {
      "text/plain": [
       "'учёный провести исследование выяснить захоронить безымянный саркофаг вознесенский собор московский кремль сообщать вечерний москва генетика южный федеральный университет вместе коллега музеязаповедник московский кремль южный научный центр ран провести идентификация некрополь вознесенский собор несколько подвергаться серьёзный разрушение результат некоторый саркофаг оказаться безымянный узнать захоронить столичный кремль помочь специалист южный федеральный университет днкэкспертиза направить образец костный материал безымянный саркофаг принадлежащий великий княгиня супруг князь иван iii софья палеолог историк предполагать захоронение эпитафия мочь принадлежать дочь внучка палеолог евдокия иванович анастасия петрович учёный научный лаборатория юфу сначала выяснить захоронить безымянный саркофаг вероятность иметь родство великий княгиня тип мать – дочь обнаружить вероятность скелет принадлежать материнский линия результат исследование подтвердить версия историк захоронение находиться дочь иван iii великий княжна евдокия иванович племянница василий iii анастасия петрович слово учёный сделать открытие помочь реконструкция семейный гробница высокий знать средневековый русский государство ранее президент союз музей россия глава эрмитаж михаил пиотровский назвать раскопка южный пригород херсонес центральный археологический событие рф специалист наслать время экспедиция предмет погребальный ритуал различный сосуд женский украшение склеп'"
      ]
     },
     "execution_count": 15,
     "metadata": {},
     "output_type": "execute_result"
    }
   ],
   "source": [
    "corpus=list(data.text)\n",
    "corpus[0]"
   ]
  },
  {
   "cell_type": "code",
   "execution_count": 16,
   "metadata": {},
   "outputs": [],
   "source": [
    "texts = [[text for text in doc.split()] for doc in corpus]"
   ]
  },
  {
   "cell_type": "code",
   "execution_count": 17,
   "metadata": {},
   "outputs": [],
   "source": [
    "dictionary = Dictionary(texts)\n",
    "corpus = [dictionary.doc2bow(text) for text in texts]"
   ]
  },
  {
   "cell_type": "markdown",
   "metadata": {},
   "source": [
    "# LSI"
   ]
  },
  {
   "cell_type": "code",
   "execution_count": 18,
   "metadata": {},
   "outputs": [],
   "source": [
    "# Set training parameters.\n",
    "chunksize = 2000\n",
    "onepass=True\n",
    "num_topic=4"
   ]
  },
  {
   "cell_type": "markdown",
   "metadata": {},
   "source": [
    "Модель с 4 топиками"
   ]
  },
  {
   "cell_type": "code",
   "execution_count": 19,
   "metadata": {},
   "outputs": [
    {
     "name": "stdout",
     "output_type": "stream",
     "text": [
      "Wall time: 47 s\n"
     ]
    },
    {
     "data": {
      "text/plain": [
       "[(0,\n",
       "  '0.334*\"который\" + 0.320*\"год\" + 0.281*\"россия\" + 0.197*\"мочь\" + 0.164*\"свой\" + 0.158*\"весь\" + 0.144*\"украина\" + 0.139*\"страна\" + 0.129*\"российский\" + 0.122*\"время\"'),\n",
       " (1,\n",
       "  '-0.385*\"украина\" + -0.381*\"россия\" + 0.256*\"год\" + -0.195*\"сша\" + -0.169*\"президент\" + 0.163*\"который\" + -0.161*\"нато\" + 0.143*\"человек\" + -0.142*\"путин\" + -0.138*\"страна\"'),\n",
       " (2,\n",
       "  '-0.316*\"сборная\" + -0.306*\"матч\" + -0.303*\"команда\" + -0.208*\"наш\" + -0.171*\"чемпионат\" + -0.170*\"россия\" + -0.170*\"игра\" + 0.140*\"человек\" + -0.124*\"клуб\" + -0.114*\"олимпиада\"'),\n",
       " (3,\n",
       "  '0.358*\"год\" + 0.319*\"ракета\" + -0.235*\"человек\" + 0.144*\"российский\" + 0.142*\"космический\" + -0.140*\"лайф\" + 0.134*\"корабль\" + -0.131*\"ранее\" + -0.125*\"ребёнок\" + 0.115*\"военный\"')]"
      ]
     },
     "execution_count": 19,
     "metadata": {},
     "output_type": "execute_result"
    }
   ],
   "source": [
    "%%time\n",
    "lsimodel4 = LsiModel(corpus=corpus, num_topics=num_topic, id2word=dictionary,chunksize=chunksize,onepass=onepass)\n",
    "lsimodel4.show_topics(num_topics=4)"
   ]
  },
  {
   "cell_type": "markdown",
   "metadata": {},
   "source": [
    "с 10 топиками и другими параметрами"
   ]
  },
  {
   "cell_type": "code",
   "execution_count": 31,
   "metadata": {},
   "outputs": [
    {
     "name": "stdout",
     "output_type": "stream",
     "text": [
      "Wall time: 9.38 s\n"
     ]
    },
    {
     "data": {
      "text/plain": [
       "[(0,\n",
       "  '0.334*\"который\" + 0.317*\"год\" + 0.289*\"россия\" + 0.195*\"мочь\" + 0.164*\"свой\" + 0.156*\"весь\" + 0.145*\"украина\" + 0.142*\"страна\" + 0.132*\"российский\" + 0.124*\"сша\"'),\n",
       " (1,\n",
       "  '-0.388*\"россия\" + -0.369*\"украина\" + 0.309*\"год\" + -0.185*\"сша\" + -0.175*\"президент\" + 0.163*\"который\" + -0.153*\"страна\" + -0.147*\"нато\" + -0.138*\"путин\" + -0.138*\"рф\"'),\n",
       " (2,\n",
       "  '-0.307*\"матч\" + -0.302*\"команда\" + -0.295*\"сборная\" + -0.205*\"наш\" + -0.193*\"россия\" + -0.175*\"игра\" + -0.165*\"чемпионат\" + 0.146*\"человек\" + -0.136*\"клуб\" + 0.111*\"который\"'),\n",
       " (3,\n",
       "  '0.419*\"год\" + -0.263*\"человек\" + 0.209*\"ракета\" + -0.193*\"лайф\" + -0.180*\"ранее\" + -0.147*\"ребёнок\" + 0.125*\"сша\" + -0.125*\"произойти\" + -0.121*\"мужчина\" + -0.121*\"который\"'),\n",
       " (4,\n",
       "  '0.626*\"год\" + -0.321*\"мочь\" + -0.269*\"который\" + 0.125*\"президент\" + -0.118*\"устройство\" + -0.106*\"пользователь\" + -0.100*\"ракета\" + -0.097*\"приложение\" + -0.093*\"смартфон\" + 0.093*\"ранее\"'),\n",
       " (5,\n",
       "  '0.462*\"украина\" + -0.210*\"россия\" + -0.207*\"ракета\" + -0.178*\"российский\" + -0.146*\"сша\" + -0.140*\"нато\" + 0.138*\"президент\" + -0.137*\"безопасность\" + 0.135*\"свой\" + -0.126*\"ранее\"'),\n",
       " (6,\n",
       "  '0.234*\"компания\" + 0.218*\"устройство\" + -0.215*\"который\" + 0.212*\"iphone\" + 0.210*\"пользователь\" + 0.205*\"смартфон\" + 0.178*\"новый\" + 0.172*\"приложение\" + -0.170*\"ракета\" + 0.153*\"рубль\"'),\n",
       " (7,\n",
       "  '0.346*\"украина\" + -0.249*\"страна\" + -0.242*\"казахстан\" + -0.192*\"президент\" + 0.157*\"матч\" + -0.144*\"весь\" + -0.129*\"наш\" + -0.129*\"безопасность\" + -0.122*\"путин\" + -0.120*\"человек\"'),\n",
       " (8,\n",
       "  '0.291*\"президент\" + -0.281*\"россия\" + -0.237*\"нато\" + 0.214*\"казахстан\" + 0.192*\"ракета\" + 0.175*\"российский\" + -0.146*\"сша\" + -0.142*\"год\" + -0.135*\"москва\" + 0.130*\"путин\"'),\n",
       " (9,\n",
       "  '-0.269*\"казахстан\" + -0.242*\"страна\" + 0.236*\"путин\" + 0.206*\"российский\" + 0.186*\"президент\" + -0.161*\"военный\" + -0.159*\"нато\" + -0.158*\"январь\" + -0.156*\"матч\" + 0.142*\"владимир\"')]"
      ]
     },
     "execution_count": 31,
     "metadata": {},
     "output_type": "execute_result"
    }
   ],
   "source": [
    "%%time\n",
    "# Set training parameters.\n",
    "chunksize = 10000\n",
    "onepass=False\n",
    "num_topic=10\n",
    "lsimodel10 = LsiModel(corpus=corpus, num_topics=num_topic, id2word=dictionary,chunksize=chunksize,onepass=onepass)\n",
    "lsimodel10.show_topics(num_topics=num_topic)  # Showing only the top 5 topics"
   ]
  },
  {
   "cell_type": "markdown",
   "metadata": {},
   "source": [
    "с 10 топиками и теми же параметрами, что у 1 модели"
   ]
  },
  {
   "cell_type": "code",
   "execution_count": 21,
   "metadata": {},
   "outputs": [
    {
     "name": "stdout",
     "output_type": "stream",
     "text": [
      "Wall time: 52.9 s\n"
     ]
    },
    {
     "data": {
      "text/plain": [
       "[(0,\n",
       "  '0.335*\"который\" + 0.319*\"год\" + 0.285*\"россия\" + 0.195*\"мочь\" + 0.164*\"свой\" + 0.155*\"весь\" + 0.144*\"украина\" + 0.140*\"страна\" + 0.132*\"российский\" + 0.123*\"сша\"'),\n",
       " (1,\n",
       "  '-0.380*\"россия\" + -0.374*\"украина\" + 0.300*\"год\" + -0.181*\"сша\" + -0.170*\"президент\" + 0.155*\"который\" + -0.150*\"нато\" + -0.146*\"страна\" + -0.141*\"рф\" + -0.137*\"путин\"'),\n",
       " (2,\n",
       "  '-0.311*\"сборная\" + -0.307*\"матч\" + -0.303*\"команда\" + -0.207*\"наш\" + -0.182*\"россия\" + -0.173*\"игра\" + -0.171*\"чемпионат\" + 0.125*\"человек\" + -0.124*\"клуб\" + -0.112*\"олимпиада\"'),\n",
       " (3,\n",
       "  '0.361*\"год\" + -0.274*\"человек\" + 0.249*\"ракета\" + -0.176*\"лайф\" + -0.166*\"ребёнок\" + -0.159*\"ранее\" + -0.132*\"мужчина\" + -0.131*\"произойти\" + -0.125*\"летний\" + -0.113*\"пострадать\"'),\n",
       " (4,\n",
       "  '0.549*\"год\" + -0.269*\"мочь\" + -0.204*\"устройство\" + -0.170*\"смартфон\" + -0.170*\"пользователь\" + -0.160*\"который\" + -0.158*\"приложение\" + -0.156*\"iphone\" + -0.132*\"новый\" + -0.107*\"apple\"'),\n",
       " (5,\n",
       "  '-0.337*\"год\" + 0.275*\"ракета\" + 0.209*\"который\" + -0.208*\"компания\" + -0.190*\"iphone\" + -0.179*\"пользователь\" + -0.176*\"смартфон\" + -0.175*\"устройство\" + 0.152*\"военный\" + -0.145*\"рубль\"'),\n",
       " (6,\n",
       "  '0.368*\"украина\" + -0.229*\"ракета\" + 0.169*\"учёный\" + -0.164*\"россия\" + -0.159*\"компания\" + -0.156*\"российский\" + 0.143*\"человек\" + 0.138*\"мочь\" + -0.127*\"ранее\" + -0.121*\"лайф\"'),\n",
       " (7,\n",
       "  '0.359*\"украина\" + -0.195*\"человек\" + 0.167*\"самолёт\" + 0.159*\"военный\" + -0.153*\"безопасность\" + -0.135*\"нато\" + -0.119*\"страна\" + -0.116*\"переговоры\" + -0.110*\"президент\" + -0.109*\"путин\"'),\n",
       " (8,\n",
       "  '0.270*\"нато\" + -0.197*\"космический\" + -0.194*\"президент\" + 0.187*\"iphone\" + -0.155*\"станция\" + -0.152*\"пользователь\" + -0.145*\"путин\" + 0.137*\"год\" + -0.136*\"компания\" + -0.128*\"мкс\"'),\n",
       " (9,\n",
       "  '0.336*\"самолёт\" + -0.270*\"ракета\" + 0.168*\"полёт\" + -0.147*\"её\" + 0.146*\"матч\" + 0.140*\"станция\" + 0.136*\"человек\" + -0.135*\"ребёнок\" + 0.132*\"iphone\" + 0.127*\"казахстан\"')]"
      ]
     },
     "execution_count": 21,
     "metadata": {},
     "output_type": "execute_result"
    }
   ],
   "source": [
    "%%time\n",
    "# Set training parameters.\n",
    "chunksize = 2000\n",
    "onepass=True\n",
    "num_topic=10\n",
    "lsimodel10s = LsiModel(corpus=corpus, num_topics=num_topic, id2word=dictionary,chunksize=chunksize,onepass=onepass)\n",
    "lsimodel10s.show_topics(num_topics=num_topic) "
   ]
  },
  {
   "cell_type": "code",
   "execution_count": 32,
   "metadata": {},
   "outputs": [],
   "source": [
    "lsitopics4 = [[word for word, prob in topic] for topicid, topic in lsimodel4.show_topics(formatted=False)]\n",
    "lsitopics10 = [[word for word, prob in topic] for topicid, topic in lsimodel10.show_topics(formatted=False)]\n",
    "lsitopics10s = [[word for word, prob in topic] for topicid, topic in lsimodel10s.show_topics(formatted=False)]"
   ]
  },
  {
   "cell_type": "code",
   "execution_count": 33,
   "metadata": {},
   "outputs": [],
   "source": [
    "lsi_coherence4 = CoherenceModel(topics=lsitopics4[:4], texts=texts, dictionary=dictionary, window_size=10).get_coherence()\n",
    "lsi_coherence10 = CoherenceModel(topics=lsitopics10[:10], texts=texts, dictionary=dictionary, window_size=10).get_coherence()\n",
    "lsi_coherence10s = CoherenceModel(topics=lsitopics10s[:10], texts=texts, dictionary=dictionary, window_size=10).get_coherence()"
   ]
  },
  {
   "cell_type": "code",
   "execution_count": 34,
   "metadata": {},
   "outputs": [],
   "source": [
    "def evaluate_bar_graph(coherences, indices):\n",
    "    \"\"\"\n",
    "    Function to plot bar graph.\n",
    "    \n",
    "    coherences: list of coherence values\n",
    "    indices: Indices to be used to mark bars. Length of this and coherences should be equal.\n",
    "    \"\"\"\n",
    "    assert len(coherences) == len(indices)\n",
    "    n = len(coherences)\n",
    "    x = np.arange(n)\n",
    "    plt.bar(x, coherences, width=0.2, tick_label=indices, align='center')\n",
    "    plt.xlabel('Models')\n",
    "    plt.ylabel('Coherence Value')"
   ]
  },
  {
   "cell_type": "code",
   "execution_count": 35,
   "metadata": {},
   "outputs": [
    {
     "data": {
      "image/png": "[encoded data removed]",
      "text/plain": [
       "<Figure size 432x288 with 1 Axes>"
      ]
     },
     "metadata": {
      "needs_background": "light"
     },
     "output_type": "display_data"
    }
   ],
   "source": [
    "evaluate_bar_graph([lsi_coherence4,lsi_coherence10, lsi_coherence10s],\n",
    "                   ['4 topics', '10 topics', '10 topics same p'])"
   ]
  },
  {
   "cell_type": "markdown",
   "metadata": {},
   "source": [
    "по значению метрики можно сделать вывод, что модель с 10 тотиками дает результат лучше, но не намного "
   ]
  },
  {
   "cell_type": "markdown",
   "metadata": {},
   "source": [
    "# Пробовала чухну с топиками и word to vec\n"
   ]
  },
  {
   "cell_type": "code",
   "execution_count": 142,
   "metadata": {},
   "outputs": [],
   "source": [
    "topicks=[]"
   ]
  },
  {
   "cell_type": "code",
   "execution_count": 144,
   "metadata": {},
   "outputs": [],
   "source": [
    "for topicid, topic in lsimodel4.show_topics(formatted=False):\n",
    "    for i in topic:\n",
    "        topicks.append(i[0])"
   ]
  },
  {
   "cell_type": "code",
   "execution_count": 145,
   "metadata": {},
   "outputs": [
    {
     "data": {
      "text/plain": [
       "['который',\n",
       " 'год',\n",
       " 'россия',\n",
       " 'мочь',\n",
       " 'свой',\n",
       " 'весь',\n",
       " 'украина',\n",
       " 'страна',\n",
       " 'российский',\n",
       " 'сша',\n",
       " 'россия',\n",
       " 'украина',\n",
       " 'год',\n",
       " 'сша',\n",
       " 'президент',\n",
       " 'который',\n",
       " 'страна',\n",
       " 'нато',\n",
       " 'рф',\n",
       " 'путин',\n",
       " 'матч',\n",
       " 'команда',\n",
       " 'сборная',\n",
       " 'наш',\n",
       " 'россия',\n",
       " 'игра',\n",
       " 'чемпионат',\n",
       " 'человек',\n",
       " 'клуб',\n",
       " 'который',\n",
       " 'год',\n",
       " 'человек',\n",
       " 'ракета',\n",
       " 'лайф',\n",
       " 'ранее',\n",
       " 'ребёнок',\n",
       " 'произойти',\n",
       " 'мужчина',\n",
       " 'летний',\n",
       " 'который']"
      ]
     },
     "execution_count": 145,
     "metadata": {},
     "output_type": "execute_result"
    }
   ],
   "source": [
    "topicks"
   ]
  },
  {
   "cell_type": "code",
   "execution_count": 37,
   "metadata": {},
   "outputs": [],
   "source": [
    "lsitopics = [[word for word, prob in topic] for topicid, topic in lsimodel4.show_topics(formatted=False)]"
   ]
  },
  {
   "cell_type": "code",
   "execution_count": 38,
   "metadata": {},
   "outputs": [],
   "source": [
    "lsi_coherence = CoherenceModel(topics=lsitopics[:10], texts=texts, dictionary=dictionary, window_size=10).get_coherence()"
   ]
  },
  {
   "cell_type": "code",
   "execution_count": 39,
   "metadata": {},
   "outputs": [
    {
     "data": {
      "text/plain": [
       "0.4128915699430883"
      ]
     },
     "execution_count": 39,
     "metadata": {},
     "output_type": "execute_result"
    }
   ],
   "source": [
    "lsi_coherence"
   ]
  },
  {
   "cell_type": "code",
   "execution_count": 117,
   "metadata": {},
   "outputs": [],
   "source": [
    "def return_tags(data,category):\n",
    "    tags=[]\n",
    "    for i, row in data.iterrows():\n",
    "        if str(row.category)==category:\n",
    "            for k in row.tags:\n",
    "                if k in tags or k==\"Новости\":\n",
    "                    continue;\n",
    "                tags.append(k)\n",
    "    return tags"
   ]
  },
  {
   "cell_type": "code",
   "execution_count": 118,
   "metadata": {},
   "outputs": [],
   "source": [
    "politic_tags=return_tags(data,'politika')\n",
    "tehnologi_tags=return_tags(data,'tehnologii')\n",
    "proisshestviya_tags=return_tags(data,'proisshestviya')\n",
    "sport_tags=return_tags(data,'sport')"
   ]
  },
  {
   "cell_type": "code",
   "execution_count": 119,
   "metadata": {},
   "outputs": [],
   "source": [
    "texts+=politic_tags\n",
    "texts+=tehnologi_tags\n",
    "texts+=proisshestviya_tags\n",
    "texts+=sport_tags"
   ]
  },
  {
   "cell_type": "code",
   "execution_count": 120,
   "metadata": {},
   "outputs": [],
   "source": [
    "texts+=list(data.category.unique())"
   ]
  },
  {
   "cell_type": "code",
   "execution_count": null,
   "metadata": {},
   "outputs": [],
   "source": []
  },
  {
   "cell_type": "code",
   "execution_count": 43,
   "metadata": {},
   "outputs": [],
   "source": [
    "model = gensim.models.KeyedVectors.load_word2vec_format('topic/model.bin', binary=True)"
   ]
  },
  {
   "cell_type": "code",
   "execution_count": 47,
   "metadata": {},
   "outputs": [],
   "source": [
    "from gensim.models import Word2Vec"
   ]
  },
  {
   "cell_type": "code",
   "execution_count": 153,
   "metadata": {},
   "outputs": [],
   "source": [
    "w2v_model = Word2Vec(\n",
    "    min_count=10,\n",
    "    window=2,\n",
    "    negative=10,\n",
    "    alpha=0.03,\n",
    "    min_alpha=0.0007,\n",
    "    sample=6e-5,\n",
    "    sg=1)"
   ]
  },
  {
   "cell_type": "code",
   "execution_count": 154,
   "metadata": {},
   "outputs": [],
   "source": [
    "w2v_model.build_vocab(texts)"
   ]
  },
  {
   "cell_type": "code",
   "execution_count": 155,
   "metadata": {},
   "outputs": [
    {
     "data": {
      "text/plain": [
       "(15734678, 25989330)"
      ]
     },
     "execution_count": 155,
     "metadata": {},
     "output_type": "execute_result"
    }
   ],
   "source": [
    "w2v_model.train(texts, total_examples=w2v_model.corpus_count, epochs=10, report_delay=1)"
   ]
  },
  {
   "cell_type": "code",
   "execution_count": 157,
   "metadata": {},
   "outputs": [
    {
     "ename": "KeyError",
     "evalue": "\"Key 'владимир' not present\"",
     "output_type": "error",
     "traceback": [
      "\u001b[1;31m---------------------------------------------------------------------------\u001b[0m",
      "\u001b[1;31mKeyError\u001b[0m                                  Traceback (most recent call last)",
      "\u001b[1;32mC:\\Temp/ipykernel_24868/3284469383.py\u001b[0m in \u001b[0;36m<module>\u001b[1;34m\u001b[0m\n\u001b[1;32m----> 1\u001b[1;33m \u001b[0mmodel\u001b[0m\u001b[1;33m.\u001b[0m\u001b[0mmost_similar\u001b[0m\u001b[1;33m(\u001b[0m\u001b[0mpositive\u001b[0m\u001b[1;33m=\u001b[0m\u001b[1;34m\"владимир\"\u001b[0m\u001b[1;33m)\u001b[0m\u001b[1;33m\u001b[0m\u001b[1;33m\u001b[0m\u001b[0m\n\u001b[0m",
      "\u001b[1;32m~\\.conda\\envs\\text_dataset\\lib\\site-packages\\gensim\\models\\keyedvectors.py\u001b[0m in \u001b[0;36mmost_similar\u001b[1;34m(self, positive, negative, topn, clip_start, clip_end, restrict_vocab, indexer)\u001b[0m\n\u001b[0;32m    771\u001b[0m                 \u001b[0mmean\u001b[0m\u001b[1;33m.\u001b[0m\u001b[0mappend\u001b[0m\u001b[1;33m(\u001b[0m\u001b[0mweight\u001b[0m \u001b[1;33m*\u001b[0m \u001b[0mkey\u001b[0m\u001b[1;33m)\u001b[0m\u001b[1;33m\u001b[0m\u001b[1;33m\u001b[0m\u001b[0m\n\u001b[0;32m    772\u001b[0m             \u001b[1;32melse\u001b[0m\u001b[1;33m:\u001b[0m\u001b[1;33m\u001b[0m\u001b[1;33m\u001b[0m\u001b[0m\n\u001b[1;32m--> 773\u001b[1;33m                 \u001b[0mmean\u001b[0m\u001b[1;33m.\u001b[0m\u001b[0mappend\u001b[0m\u001b[1;33m(\u001b[0m\u001b[0mweight\u001b[0m \u001b[1;33m*\u001b[0m \u001b[0mself\u001b[0m\u001b[1;33m.\u001b[0m\u001b[0mget_vector\u001b[0m\u001b[1;33m(\u001b[0m\u001b[0mkey\u001b[0m\u001b[1;33m,\u001b[0m \u001b[0mnorm\u001b[0m\u001b[1;33m=\u001b[0m\u001b[1;32mTrue\u001b[0m\u001b[1;33m)\u001b[0m\u001b[1;33m)\u001b[0m\u001b[1;33m\u001b[0m\u001b[1;33m\u001b[0m\u001b[0m\n\u001b[0m\u001b[0;32m    774\u001b[0m                 \u001b[1;32mif\u001b[0m \u001b[0mself\u001b[0m\u001b[1;33m.\u001b[0m\u001b[0mhas_index_for\u001b[0m\u001b[1;33m(\u001b[0m\u001b[0mkey\u001b[0m\u001b[1;33m)\u001b[0m\u001b[1;33m:\u001b[0m\u001b[1;33m\u001b[0m\u001b[1;33m\u001b[0m\u001b[0m\n\u001b[0;32m    775\u001b[0m                     \u001b[0mall_keys\u001b[0m\u001b[1;33m.\u001b[0m\u001b[0madd\u001b[0m\u001b[1;33m(\u001b[0m\u001b[0mself\u001b[0m\u001b[1;33m.\u001b[0m\u001b[0mget_index\u001b[0m\u001b[1;33m(\u001b[0m\u001b[0mkey\u001b[0m\u001b[1;33m)\u001b[0m\u001b[1;33m)\u001b[0m\u001b[1;33m\u001b[0m\u001b[1;33m\u001b[0m\u001b[0m\n",
      "\u001b[1;32m~\\.conda\\envs\\text_dataset\\lib\\site-packages\\gensim\\models\\keyedvectors.py\u001b[0m in \u001b[0;36mget_vector\u001b[1;34m(self, key, norm)\u001b[0m\n\u001b[0;32m    436\u001b[0m \u001b[1;33m\u001b[0m\u001b[0m\n\u001b[0;32m    437\u001b[0m         \"\"\"\n\u001b[1;32m--> 438\u001b[1;33m         \u001b[0mindex\u001b[0m \u001b[1;33m=\u001b[0m \u001b[0mself\u001b[0m\u001b[1;33m.\u001b[0m\u001b[0mget_index\u001b[0m\u001b[1;33m(\u001b[0m\u001b[0mkey\u001b[0m\u001b[1;33m)\u001b[0m\u001b[1;33m\u001b[0m\u001b[1;33m\u001b[0m\u001b[0m\n\u001b[0m\u001b[0;32m    439\u001b[0m         \u001b[1;32mif\u001b[0m \u001b[0mnorm\u001b[0m\u001b[1;33m:\u001b[0m\u001b[1;33m\u001b[0m\u001b[1;33m\u001b[0m\u001b[0m\n\u001b[0;32m    440\u001b[0m             \u001b[0mself\u001b[0m\u001b[1;33m.\u001b[0m\u001b[0mfill_norms\u001b[0m\u001b[1;33m(\u001b[0m\u001b[1;33m)\u001b[0m\u001b[1;33m\u001b[0m\u001b[1;33m\u001b[0m\u001b[0m\n",
      "\u001b[1;32m~\\.conda\\envs\\text_dataset\\lib\\site-packages\\gensim\\models\\keyedvectors.py\u001b[0m in \u001b[0;36mget_index\u001b[1;34m(self, key, default)\u001b[0m\n\u001b[0;32m    410\u001b[0m             \u001b[1;32mreturn\u001b[0m \u001b[0mdefault\u001b[0m\u001b[1;33m\u001b[0m\u001b[1;33m\u001b[0m\u001b[0m\n\u001b[0;32m    411\u001b[0m         \u001b[1;32melse\u001b[0m\u001b[1;33m:\u001b[0m\u001b[1;33m\u001b[0m\u001b[1;33m\u001b[0m\u001b[0m\n\u001b[1;32m--> 412\u001b[1;33m             \u001b[1;32mraise\u001b[0m \u001b[0mKeyError\u001b[0m\u001b[1;33m(\u001b[0m\u001b[1;34mf\"Key '{key}' not present\"\u001b[0m\u001b[1;33m)\u001b[0m\u001b[1;33m\u001b[0m\u001b[1;33m\u001b[0m\u001b[0m\n\u001b[0m\u001b[0;32m    413\u001b[0m \u001b[1;33m\u001b[0m\u001b[0m\n\u001b[0;32m    414\u001b[0m     \u001b[1;32mdef\u001b[0m \u001b[0mget_vector\u001b[0m\u001b[1;33m(\u001b[0m\u001b[0mself\u001b[0m\u001b[1;33m,\u001b[0m \u001b[0mkey\u001b[0m\u001b[1;33m,\u001b[0m \u001b[0mnorm\u001b[0m\u001b[1;33m=\u001b[0m\u001b[1;32mFalse\u001b[0m\u001b[1;33m)\u001b[0m\u001b[1;33m:\u001b[0m\u001b[1;33m\u001b[0m\u001b[1;33m\u001b[0m\u001b[0m\n",
      "\u001b[1;31mKeyError\u001b[0m: \"Key 'владимир' not present\""
     ]
    }
   ],
   "source": [
    "model.most_similar(positive=\"владимир\")"
   ]
  },
  {
   "cell_type": "code",
   "execution_count": null,
   "metadata": {},
   "outputs": [],
   "source": []
  }
 ],
 "metadata": {
  "kernelspec": {
   "display_name": "Python 3 (ipykernel)",
   "language": "python",
   "name": "python3"
  },
  "language_info": {
   "codemirror_mode": {
    "name": "ipython",
    "version": 3
   },
   "file_extension": ".py",
   "mimetype": "text/x-python",
   "name": "python",
   "nbconvert_exporter": "python",
   "pygments_lexer": "ipython3",
   "version": "3.7.11"
  }
 },
 "nbformat": 4,
 "nbformat_minor": 2
}
